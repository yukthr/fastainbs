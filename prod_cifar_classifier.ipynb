{
 "cells": [
  {
   "cell_type": "markdown",
   "metadata": {
    "gradient": {
     "editing": false,
     "id": "3b89a27a-3881-40f4-be86-67f4e67a33e4",
     "kernelId": "6630ef84-9daa-45b3-a0b2-f31b43570697"
    }
   },
   "source": [
    "# Cifar10 Imageset - Trained with Transfer Learning - Model 1 - Rakesh Madupu \n",
    "\n",
    "## Airplane, Automobile, bird , cat, deer, dog, frog, horse, ship, truck are the objects that can be classified with this model\n",
    "\n",
    "### Use this model to classify the above Image sets. "
   ]
  },
  {
   "cell_type": "code",
   "execution_count": null,
   "metadata": {
    "gradient": {
     "editing": false,
     "id": "21c475e8-557b-4760-9a1e-9a95b4321c85",
     "kernelId": "6630ef84-9daa-45b3-a0b2-f31b43570697",
     "source_hidden": false
    }
   },
   "outputs": [],
   "source": [
    "from fastai.vision.all import *\n",
    "from fastai.vision.widgets import *"
   ]
  },
  {
   "cell_type": "code",
   "execution_count": null,
   "metadata": {
    "gradient": {
     "editing": false,
     "id": "d65af826-27fb-45a6-ada2-9e317db67fad",
     "kernelId": "6630ef84-9daa-45b3-a0b2-f31b43570697",
     "source_hidden": false
    }
   },
   "outputs": [],
   "source": [
    "btn_run = widgets.Button(description='Classify')\n",
    "path = Path()\n",
    "learn_inf = load_learner(path/'export.pkl', cpu=True)\n",
    "btn_upload = widgets.FileUpload()\n",
    "out_pl = widgets.Output()\n",
    "lbl_pred = widgets.Label()"
   ]
  },
  {
   "cell_type": "code",
   "execution_count": null,
   "metadata": {
    "gradient": {
     "editing": false,
     "id": "17aa9377-f643-400b-a88d-cafe54fae806",
     "kernelId": "6630ef84-9daa-45b3-a0b2-f31b43570697"
    }
   },
   "outputs": [],
   "source": [
    "def on_data_change(change):\n",
    "    lbl_pred.value = ''\n",
    "    img = PILImage.create(btn_upload.data[-1])\n",
    "    out_pl.clear_output()\n",
    "    with out_pl: display(img.to_thumb(128,128))\n",
    "    pred,pred_idx,probs = learn_inf.predict(img)\n",
    "    lbl_pred.value = f'Prediction: {pred}; Probability: {probs[pred_idx]:.04f}'"
   ]
  },
  {
   "cell_type": "code",
   "execution_count": null,
   "metadata": {
    "gradient": {
     "editing": false,
     "id": "0910ff07-2dd8-42c4-93ff-6d059b965a37",
     "kernelId": "6630ef84-9daa-45b3-a0b2-f31b43570697"
    }
   },
   "outputs": [],
   "source": [
    "btn_run.on_click(on_data_change)\n",
    "# btn_upload.observe(on_data_change, names=['data'])\n",
    "btn_upload = widgets.FileUpload()"
   ]
  },
  {
   "cell_type": "code",
   "execution_count": null,
   "metadata": {
    "gradient": {
     "editing": false,
     "id": "d281ec2a-d58d-4645-96cc-4626ed98268e",
     "kernelId": "6630ef84-9daa-45b3-a0b2-f31b43570697"
    }
   },
   "outputs": [
    {
     "data": {
      "application/vnd.jupyter.widget-view+json": {
       "model_id": "59bf199b44d04f1caca7f8794ef1b118",
       "version_major": 2,
       "version_minor": 0
      },
      "text/plain": [
       "VBox(children=(Label(value='Select your image!'), FileUpload(value={'labrador.jpeg': {'metadata': {'name': 'la…"
      ]
     },
     "metadata": {},
     "output_type": "display_data"
    },
    {
     "data": {
      "text/html": [],
      "text/plain": [
       "<IPython.core.display.HTML object>"
      ]
     },
     "metadata": {},
     "output_type": "display_data"
    },
    {
     "data": {
      "text/html": [],
      "text/plain": [
       "<IPython.core.display.HTML object>"
      ]
     },
     "metadata": {},
     "output_type": "display_data"
    }
   ],
   "source": [
    "display(VBox([widgets.Label('Select your image!'), btn_upload, btn_run, out_pl, lbl_pred]))"
   ]
  },
  {
   "cell_type": "code",
   "execution_count": null,
   "metadata": {
    "gradient": {
     "editing": false,
     "id": "ce08dc47-07b2-454a-94cd-3c220a6a9021",
     "kernelId": "6630ef84-9daa-45b3-a0b2-f31b43570697"
    }
   },
   "outputs": [],
   "source": []
  }
 ],
 "metadata": {
  "kernelspec": {
   "display_name": "Python 3",
   "language": "python",
   "name": "python3"
  },
  "language_info": {
   "codemirror_mode": {
    "name": "ipython",
    "version": 3
   },
   "file_extension": ".py",
   "mimetype": "text/x-python",
   "name": "python",
   "nbconvert_exporter": "python",
   "pygments_lexer": "ipython3",
   "version": "3.8.6"
  }
 },
 "nbformat": 4,
 "nbformat_minor": 4
}
